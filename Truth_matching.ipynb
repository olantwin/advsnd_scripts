{
 "cells": [
  {
   "cell_type": "markdown",
   "id": "e5b8d2b2-4aa1-495f-ac30-ac118cc76103",
   "metadata": {},
   "source": [
    "# Truth matching"
   ]
  },
  {
   "cell_type": "code",
   "execution_count": null,
   "id": "4fb3ae57-fd44-46ac-a0eb-854e7c6ba7c0",
   "metadata": {},
   "outputs": [],
   "source": [
    "import ROOT"
   ]
  },
  {
   "cell_type": "code",
   "execution_count": null,
   "id": "353a139f-1564-4572-8ca1-b590883dfeed",
   "metadata": {},
   "outputs": [],
   "source": [
    "import graphviz"
   ]
  },
  {
   "cell_type": "code",
   "execution_count": null,
   "id": "10fd56e0-f79f-4826-8c87-da4e06b42c9d",
   "metadata": {},
   "outputs": [],
   "source": [
    "from particle import Particle, ParticleNotFound"
   ]
  },
  {
   "cell_type": "code",
   "execution_count": null,
   "id": "7b726db6-cac4-4adf-a0c0-1d5a026bf3a2",
   "metadata": {},
   "outputs": [],
   "source": []
  },
  {
   "cell_type": "code",
   "execution_count": null,
   "id": "c3b51724-3f4d-4483-8d2e-1db31d046538",
   "metadata": {},
   "outputs": [],
   "source": [
    "def make_graph_MC(tracks):\n",
    "    parents_map = {i: mother_id for i, track in enumerate(tracks) if (mother_id:=track.GetMotherId(), mother_id != -2)}\n",
    "    #print(parents_map)\n",
    "    level1 = {}\n",
    "    for track, mother in parents_map.items():\n",
    "        if mother not in level1:\n",
    "            level1[mother] = [track]\n",
    "        else:\n",
    "            level1[mother].append(track)\n",
    "    #print(level1)\n",
    "    dot = graphviz.Digraph(comment='Vertex')\n",
    "    dot.attr(rankdir=\"LR\")\n",
    "    dot.node(\"-1\")\n",
    "    for mother, track_ids in level1.items():\n",
    "        for track in track_ids:\n",
    "            pdgid = tracks[track].GetPdgCode()\n",
    "            try:\n",
    "                particle = Particle.from_pdgid(pdgid)\n",
    "            except ParticleNotFound as e:\n",
    "                print(e)\n",
    "                #print(pdgid)\n",
    "                assert len(str(pdgid)) == 10\n",
    "                #I = pdgid % 10\n",
    "                A = pdgid // 10 % 1000\n",
    "                Z = pdgid // 10000 % 1000\n",
    "                particle = Particle.from_nucleus_info(a=A, z=Z)\n",
    "                # TODO how to deal with 1000390981?\n",
    "                \n",
    "            style = 'solid' if particle.charge else 'dashed'\n",
    "            #print(particle.name, particle.charge)\n",
    "            dot.node(str(track), '', shape='point')\n",
    "            dot.edge(str(mother), str(track), style=style, label=f\"{track}: {particle.name}\")\n",
    "    #print(dot)\n",
    "    dot=dot.unflatten(stagger=10)\n",
    "    return dot"
   ]
  },
  {
   "cell_type": "code",
   "execution_count": null,
   "id": "5db6a027-44be-4a62-950f-8e04801fc728",
   "metadata": {},
   "outputs": [],
   "source": [
    "def make_graph_reco(vertices):\n",
    "    top = graphviz.Digraph(comment='Vertex')\n",
    "    for vertex in vertices:\n",
    "        #help(vertex)\n",
    "        id = vertex.getId()\n",
    "        dot = graphviz.Digraph(comment='Vertex')\n",
    "        dot.attr(rankdir=\"LR\")\n",
    "        dot.node(str(id), str(id))\n",
    "        for i in range(vertex.getNTracks()):\n",
    "            track_params = vertex.getParameters(i)\n",
    "            #dot.node(f\"{id}_track_{i}\", f\"track_{i}\")\n",
    "            #dot.edge(str(id), f\"{id}_track_{i}\")\n",
    "            #help(track_params)\n",
    "            track = track_params.getTrack()\n",
    "            mc_id = track.getMcTrackId()\n",
    "            dot.node(f\"track_{mc_id}\", f\"track_{mc_id}\")\n",
    "            dot.edge(str(id), f\"track_{mc_id}\")\n",
    "            #help(track)\n",
    "        top.subgraph(dot)\n",
    "    top.attr(rankdir=\"LR\")\n",
    "    return top"
   ]
  },
  {
   "cell_type": "code",
   "execution_count": null,
   "id": "6003c184-982e-4de1-a00f-3d0d2e21e9be",
   "metadata": {},
   "outputs": [],
   "source": [
    "from vertex_analysis import find_MC_track\n",
    "\n",
    "\"\"\"\n",
    "def find_MC_track(track, event):\n",
    "    link = event.Digi_TargetClusterHits2MCPoints[0]\n",
    "    points = track.getPoints()\n",
    "    track_ids = []\n",
    "    for p in points:\n",
    "        digi_hit = event.Digi_advTargetClusters[p.getRawMeasurement().getHitId()]\n",
    "        wlist = link.wList(p.getRawMeasurement().getDetId())\n",
    "        for index, weight in wlist:\n",
    "            point = event.AdvTargetPoint[index]\n",
    "            track_id = point.GetTrackID()\n",
    "            if track_id == -2:\n",
    "                continue\n",
    "            track_ids.append(track_id)\n",
    "    most_common_track, count = Counter(track_ids).most_common(1)[0]\n",
    "    if count >= len(points) * 0.7:\n",
    "        # truth match if ≥ 70 % of hits are related to a single MCTrack\n",
    "        return most_common_track\n",
    "    return -1\n",
    "    # TODO check for ghosts/clones?\n",
    "    # add to track_fit.py or separate script?\n",
    "    # LHCb truth match if ≥ 70 % of hits are related to a single MCTrack\n",
    "    # Ghost rate: fraction of tracks not truth matched\n",
    "\"\"\""
   ]
  },
  {
   "cell_type": "code",
   "execution_count": null,
   "id": "7deae4b3-1670-4ce0-8e68-aecaa6db174d",
   "metadata": {},
   "outputs": [],
   "source": [
    "from vertex_analysis import match_vertex\n"
   ]
  },
  {
   "cell_type": "code",
   "execution_count": null,
   "id": "3dcacccd-b0c9-4907-9518-0cce7f15b8db",
   "metadata": {},
   "outputs": [],
   "source": [
    "from vertex_analysis import find_true_vertex\n",
    "\n",
    "\"\"\"\n",
    "def find_true_vertex(track, event):\n",
    "    id = track.getMcTrackId()\n",
    "    if id >= 0:\n",
    "        print(id)\n",
    "        mc_track = event.MCTrack[id]\n",
    "        true_vertex = ROOT.TVector3()\n",
    "        mc_track.GetStartVertex(true_vertex)\n",
    "        return true_vertex\n",
    "    return None\n",
    "\"\"\""
   ]
  },
  {
   "cell_type": "code",
   "execution_count": null,
   "id": "a62807ba-e488-4ca5-ab1e-b9a0fb75851c",
   "metadata": {},
   "outputs": [],
   "source": [
    "# need to define track in acceptance"
   ]
  },
  {
   "cell_type": "code",
   "execution_count": null,
   "id": "0fecb55e-e007-45d7-8da5-168a1a41f818",
   "metadata": {},
   "outputs": [],
   "source": []
  },
  {
   "cell_type": "code",
   "execution_count": null,
   "id": "5f21af20-5ac2-49e4-a9ea-fc3cc2c2fe28",
   "metadata": {},
   "outputs": [],
   "source": [
    "f = ROOT.TFile.Open(\"numu_dig_selected_PR_tracked_vertexed.root\", \"read\")"
   ]
  },
  {
   "cell_type": "code",
   "execution_count": null,
   "id": "6e671c54-0280-4d8d-ba2b-64b182316495",
   "metadata": {},
   "outputs": [],
   "source": [
    "tree = f.cbmsim"
   ]
  },
  {
   "cell_type": "code",
   "execution_count": null,
   "id": "c8d0d2b8-042a-4c2b-bb7f-c3f20cf99087",
   "metadata": {},
   "outputs": [],
   "source": [
    "i=0\n",
    "for event in tree:\n",
    "    if i > 5:\n",
    "        break\n",
    "    dot = make_graph_MC(event.MCTrack)\n",
    "\n",
    "    if dot:\n",
    "        pass\n",
    "        #display(dot)\n",
    "    for track in event.genfit_tracks:\n",
    "        track.setMcTrackId(find_MC_track(track, event))\n",
    "        true_vertex = find_true_vertex(track, event)\n",
    "        if true_vertex:\n",
    "            print(true_vertex.X(), true_vertex.Y(), true_vertex.Z())\n",
    "    for vertex in event.RAVE_vertices:\n",
    "        print(match_vertex(vertex, event))\n",
    "    dot = make_graph_reco(event.RAVE_vertices)\n",
    "    if dot:\n",
    "        pass\n",
    "        #display(dot)\n",
    "    i+=1"
   ]
  },
  {
   "cell_type": "code",
   "execution_count": null,
   "id": "d6764f4c-1eaf-4e11-8d11-94522d2fe838",
   "metadata": {},
   "outputs": [],
   "source": []
  }
 ],
 "metadata": {
  "kernelspec": {
   "display_name": "AdvTracker",
   "language": "python",
   "name": "advtracker"
  },
  "language_info": {
   "codemirror_mode": {
    "name": "ipython",
    "version": 3
   },
   "file_extension": ".py",
   "mimetype": "text/x-python",
   "name": "python",
   "nbconvert_exporter": "python",
   "pygments_lexer": "ipython3",
   "version": "3.11.6"
  }
 },
 "nbformat": 4,
 "nbformat_minor": 5
}
