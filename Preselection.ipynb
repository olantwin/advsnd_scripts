{
 "cells": [
  {
   "cell_type": "markdown",
   "id": "5caf565f-9396-4146-b460-53115b57beb2",
   "metadata": {},
   "source": [
    "# Preselection of CC vertices in fiducial volume"
   ]
  },
  {
   "cell_type": "code",
   "execution_count": null,
   "id": "d3354c27-01ac-4573-9129-1276103ed18e",
   "metadata": {},
   "outputs": [],
   "source": [
    "import ROOT"
   ]
  },
  {
   "cell_type": "code",
   "execution_count": null,
   "id": "785ec31d-f7da-4184-bfe0-b90acc9ef5d0",
   "metadata": {},
   "outputs": [],
   "source": [
    "ROOT.gROOT.ProcessLine('#include \"ShipMCTrack.h\"')\n",
    "ROOT.gROOT.ProcessLine('#include \"AdvTargetPoint.h\"')"
   ]
  },
  {
   "cell_type": "code",
   "execution_count": null,
   "id": "bfc014b5-2b71-4ae3-9281-6fcbe990c278",
   "metadata": {},
   "outputs": [],
   "source": [
    "df = ROOT.ROOT.RDataFrame(\"cbmsim\", \"numu_dig.root\")"
   ]
  },
  {
   "cell_type": "code",
   "execution_count": null,
   "id": "dcf36a48-b050-4b62-8b60-4dc1b84b380e",
   "metadata": {},
   "outputs": [],
   "source": [
    "columns_orig = df.GetColumnNames()"
   ]
  },
  {
   "cell_type": "markdown",
   "id": "17366fda-b47f-4c55-a9bf-06f4ac405cf0",
   "metadata": {},
   "source": [
    "## Helper functions"
   ]
  },
  {
   "cell_type": "code",
   "execution_count": null,
   "id": "171a3116-d3f2-4305-a6c5-b0d23849df56",
   "metadata": {},
   "outputs": [],
   "source": [
    "# JIT a C++ function from Python\n",
    "ROOT.gInterpreter.Declare(\"\"\"\n",
    "template<typename T>\n",
    "ROOT::RVec<T*> vectorise(const TClonesArray& xs) {\n",
    "    ROOT::RVec<T*> v{};\n",
    "    for (auto x: xs) {\n",
    "        v.emplace_back(static_cast<T*>(x));\n",
    "    }\n",
    "    return v;\n",
    "}\n",
    "\"\"\")"
   ]
  },
  {
   "cell_type": "code",
   "execution_count": null,
   "id": "75da3629-686a-4e7b-8993-3b325533be59",
   "metadata": {},
   "outputs": [],
   "source": [
    "# JIT a C++ function from Python\n",
    "ROOT.gInterpreter.Declare(\"\"\"\n",
    "auto GetStart(ShipMCTrack* t) {\n",
    "    if (t) {\n",
    "        return make_tuple(t->GetStartX(), t->GetStartY(), t->GetStartZ());\n",
    "    } else {\n",
    "        return make_tuple(0.,0.,0.);\n",
    "    }\n",
    "}\n",
    "\"\"\")"
   ]
  },
  {
   "cell_type": "code",
   "execution_count": null,
   "id": "1d9d42ff-91e3-4585-8f51-e7f130c3ad5f",
   "metadata": {},
   "outputs": [],
   "source": [
    "# JIT a C++ function from Python\n",
    "ROOT.gInterpreter.Declare(\"\"\"\n",
    "ROOT::RVec<int> motherIDs(ROOT::RVec<ShipMCTrack*> xs) {\n",
    "    ROOT::RVec<int> v{};\n",
    "    for (auto x: xs) {\n",
    "        v.push_back(x->GetMotherId());\n",
    "    }\n",
    "    return v;\n",
    "}\n",
    "\"\"\")"
   ]
  },
  {
   "cell_type": "code",
   "execution_count": null,
   "id": "20f7717f-7666-4758-9df1-238e5e76ad3b",
   "metadata": {},
   "outputs": [],
   "source": [
    "# JIT a C++ function from Python\n",
    "ROOT.gInterpreter.Declare(\"\"\"\n",
    "ROOT::RVec<bool> isMuon(ROOT::RVec<ShipMCTrack*> xs) {\n",
    "    ROOT::RVec<int> v{};\n",
    "    for (auto x: xs) {\n",
    "        v.push_back(std::abs(x->GetPdgCode()) == 13);\n",
    "    }\n",
    "    return v;\n",
    "}\n",
    "\"\"\")"
   ]
  },
  {
   "cell_type": "code",
   "execution_count": null,
   "id": "63e4432f-bb0b-4615-860b-7c42d9ff2f22",
   "metadata": {},
   "outputs": [],
   "source": [
    "df = df.Define(\"MCTracks\", \"vectorise<ShipMCTrack>(MCTrack)\")"
   ]
  },
  {
   "cell_type": "code",
   "execution_count": null,
   "id": "13a85783-5718-4e33-8aa5-a12178e8330e",
   "metadata": {},
   "outputs": [],
   "source": [
    "df = df.Define(\"IsMuon\", \"isMuon(MCTracks)\")"
   ]
  },
  {
   "cell_type": "code",
   "execution_count": null,
   "id": "13660d8e-00f7-4aca-bee8-d7a86cd1bd32",
   "metadata": {},
   "outputs": [],
   "source": [
    "df = df.Define(\"PrimaryMCTrack\", \"MCTracks[0]\")"
   ]
  },
  {
   "cell_type": "code",
   "execution_count": null,
   "id": "ff9532a7-b12d-48e4-b0d2-48d5f1ec100f",
   "metadata": {},
   "outputs": [],
   "source": [
    "df = df.Define(\"MotherIDs\", \"motherIDs(MCTracks)\")"
   ]
  },
  {
   "cell_type": "code",
   "execution_count": null,
   "id": "8f7373d1-0be4-45a2-a4df-332178e146ae",
   "metadata": {},
   "outputs": [],
   "source": [
    "h1 = df.Histo1D(\"MotherIDs\")"
   ]
  },
  {
   "cell_type": "code",
   "execution_count": null,
   "id": "b837f2e2-d28a-4fab-b094-ad5c648839f6",
   "metadata": {},
   "outputs": [],
   "source": [
    "c1 = ROOT.TCanvas()\n",
    "h1.Draw()\n",
    "c1.Draw()"
   ]
  },
  {
   "cell_type": "code",
   "execution_count": null,
   "id": "8e4d224f-dd16-4e53-9735-e4480d6c576c",
   "metadata": {},
   "outputs": [],
   "source": [
    "df = df.Define(\"SecondaryMCTracks\", \"MCTracks[MotherIDs == 0]\")"
   ]
  },
  {
   "cell_type": "code",
   "execution_count": null,
   "id": "7dd61c40-4ce1-4ca3-b62b-edc21684a5c1",
   "metadata": {},
   "outputs": [],
   "source": [
    "h2 = df.Define(\"SecondaryMCTrackMothers\", \"motherIDs(SecondaryMCTracks)\").Histo1D(\n",
    "    \"SecondaryMCTrackMothers\"\n",
    ")"
   ]
  },
  {
   "cell_type": "code",
   "execution_count": null,
   "id": "b7d5563e-ba77-4b8c-bf82-6c00da18b0a9",
   "metadata": {},
   "outputs": [],
   "source": [
    "c2 = ROOT.TCanvas()\n",
    "h2.Draw()\n",
    "c2.Draw()"
   ]
  },
  {
   "cell_type": "markdown",
   "id": "3f6c61d5-164e-4dd1-8987-3ae83c1af817",
   "metadata": {},
   "source": [
    "## Identify secondary muon"
   ]
  },
  {
   "cell_type": "code",
   "execution_count": null,
   "id": "359e6442-e335-4bcf-b57b-cd0ad6bec5db",
   "metadata": {},
   "outputs": [],
   "source": [
    "df = df.Define(\"SecondaryMuons\", \"MCTracks[MotherIDs == 0 && IsMuon]\")"
   ]
  },
  {
   "cell_type": "code",
   "execution_count": null,
   "id": "0273b165-96a4-414d-a5d1-70a43a041d43",
   "metadata": {},
   "outputs": [],
   "source": [
    "h3 = df.Define(\"nSecondaryMuons\", \"std::size(SecondaryMuons)\").Histo1D(\n",
    "    \"nSecondaryMuons\"\n",
    ")"
   ]
  },
  {
   "cell_type": "code",
   "execution_count": null,
   "id": "42973a6a-2d0b-485e-a280-1e21692e7244",
   "metadata": {},
   "outputs": [],
   "source": [
    "c3 = ROOT.TCanvas()\n",
    "h3.Draw()\n",
    "c3.Draw()"
   ]
  },
  {
   "cell_type": "code",
   "execution_count": null,
   "id": "92880bb1-e687-4bb1-a0b3-dccb3ed5f353",
   "metadata": {},
   "outputs": [],
   "source": [
    "# df = df.Filter(\"std::size(SecondaryMuons) == 1\", \"Secondary muon\")\n",
    "df = df.Define(\"CC_cut\", \"std::size(SecondaryMuons) == 1\")"
   ]
  },
  {
   "cell_type": "code",
   "execution_count": null,
   "id": "68ffec93-5ba6-4b5b-937b-e6cfd3d58ef0",
   "metadata": {},
   "outputs": [],
   "source": [
    "df = df.Define(\"PrimaryPdg\", \"PrimaryMCTrack->GetPdgCode()\")"
   ]
  },
  {
   "cell_type": "code",
   "execution_count": null,
   "id": "55e2073e-2714-4c7e-a003-b561e7cb80cb",
   "metadata": {},
   "outputs": [],
   "source": [
    "h = df.Histo1D(\"PrimaryPdg\")"
   ]
  },
  {
   "cell_type": "code",
   "execution_count": null,
   "id": "04490aed-f675-444e-b306-98aaf11b054d",
   "metadata": {},
   "outputs": [],
   "source": [
    "c = ROOT.TCanvas()\n",
    "h.Draw()\n",
    "c.Draw()"
   ]
  },
  {
   "cell_type": "markdown",
   "id": "37804529-e81d-4230-b63d-99e5bcf65211",
   "metadata": {},
   "source": [
    "## Find vertex position (secondary muon start)"
   ]
  },
  {
   "cell_type": "code",
   "execution_count": null,
   "id": "bb83dd0f-531e-4ad3-9051-ea6140fda699",
   "metadata": {},
   "outputs": [],
   "source": [
    "df = df.Define(\"Vertex\", \"GetStart(SecondaryMuons[0])\")"
   ]
  },
  {
   "cell_type": "code",
   "execution_count": null,
   "id": "32a08370-3431-47c7-9254-7941f1f924c2",
   "metadata": {},
   "outputs": [],
   "source": [
    "h4 = (\n",
    "    df.Define(\"vertex_x\", \"std::get<0>(Vertex)\")\n",
    "    .Define(\"vertex_y\", \"std::get<1>(Vertex)\")\n",
    "    .Define(\"vertex_z\", \"std::get<2>(Vertex)\")\n",
    "    .Histo2D(\n",
    "        (\"vertex\", \"vertex location; x [cm]; y[cm]\", 100, -70, 10, 100, 0, 80),\n",
    "        \"vertex_x\",\n",
    "        \"vertex_y\",\n",
    "    )\n",
    ")"
   ]
  },
  {
   "cell_type": "code",
   "execution_count": null,
   "id": "15a35bef-9313-43e3-ba20-0529946454c4",
   "metadata": {},
   "outputs": [],
   "source": [
    "c4 = ROOT.TCanvas()\n",
    "h4.Draw(\"colz\")\n",
    "c4.Draw()"
   ]
  },
  {
   "cell_type": "code",
   "execution_count": null,
   "id": "ca693113-4761-47b9-86d3-1c64b1636384",
   "metadata": {},
   "outputs": [],
   "source": [
    "h5 = df.Define(\"vertex_z\", \"std::get<2>(Vertex)\").Histo1D(\"vertex_z\")"
   ]
  },
  {
   "cell_type": "code",
   "execution_count": null,
   "id": "157da2c1-fc7a-4980-8cdb-aeb50cc90dbe",
   "metadata": {},
   "outputs": [],
   "source": [
    "c5 = ROOT.TCanvas()\n",
    "h5.Draw()\n",
    "c5.Draw()"
   ]
  },
  {
   "cell_type": "code",
   "execution_count": null,
   "id": "696e557d-438d-4101-9505-0ebe43938d41",
   "metadata": {},
   "outputs": [],
   "source": [
    "# Check whether vertex is in the fiducial volume"
   ]
  },
  {
   "cell_type": "code",
   "execution_count": null,
   "id": "d2c38d40-c873-41bf-a5d9-451867d716af",
   "metadata": {},
   "outputs": [],
   "source": [
    "h6 = (\n",
    "    df.Define(\"AdvTargetPointX\", \"AdvTargetPoint.fX\")\n",
    "    .Define(\"AdvTargetPointY\", \"AdvTargetPoint.fY\")\n",
    "    .Histo2D(\n",
    "        (\"points\", \"point location; x [cm]; y[cm]\", 100, -50, 0, 100, 10, 60),\n",
    "        \"AdvTargetPointX\",\n",
    "        \"AdvTargetPointY\",\n",
    "    )\n",
    ")"
   ]
  },
  {
   "cell_type": "code",
   "execution_count": null,
   "id": "fa836aa8-ab67-45e2-928a-148c980c3403",
   "metadata": {},
   "outputs": [],
   "source": [
    "c6 = ROOT.TCanvas()\n",
    "h6.Draw(\"colz\")\n",
    "c6.Draw()"
   ]
  },
  {
   "cell_type": "code",
   "execution_count": null,
   "id": "30e6bc75-dedc-4860-8e21-d867e44daf0a",
   "metadata": {},
   "outputs": [],
   "source": [
    "df = df.Define(\"detids\", \"AdvTargetPoint.fDetectorID\")"
   ]
  },
  {
   "cell_type": "code",
   "execution_count": null,
   "id": "d2bc2f1b-9988-4176-8f13-f781a7055028",
   "metadata": {},
   "outputs": [],
   "source": [
    "df = df.Define(\n",
    "    \"isvertical\",\n",
    "    \"return Map(detids, [](int detid){return int(detid >> 14) % 2;});\",\n",
    "    [\"detids\"],\n",
    ")"
   ]
  },
  {
   "cell_type": "code",
   "execution_count": null,
   "id": "09318a82-8ca0-497e-aaf4-db8577de7d4d",
   "metadata": {},
   "outputs": [],
   "source": [
    "df = df.Define(\"isnotvertical\", \"!isvertical\")"
   ]
  },
  {
   "cell_type": "code",
   "execution_count": null,
   "id": "b58c7bcf-eae9-4eb7-b631-86a43fd7de0e",
   "metadata": {},
   "outputs": [],
   "source": [
    "h7 = df.Define(\"AdvTargetPointY\", \"AdvTargetPoint.fY\").Histo1D(\n",
    "    \"AdvTargetPointY\", \"isvertical\"\n",
    ")"
   ]
  },
  {
   "cell_type": "code",
   "execution_count": null,
   "id": "03672233-8b7f-4b35-97bc-bef971b85400",
   "metadata": {},
   "outputs": [],
   "source": [
    "c7 = ROOT.TCanvas()\n",
    "h7.Draw()\n",
    "c7.Draw()"
   ]
  },
  {
   "cell_type": "code",
   "execution_count": null,
   "id": "fe8f2c81-eb94-4c38-bb69-041de10e21fc",
   "metadata": {},
   "outputs": [],
   "source": [
    "h8 = df.Define(\"AdvTargetPointY\", \"AdvTargetPoint.fY\").Histo1D(\n",
    "    \"AdvTargetPointY\", \"isnotvertical\"\n",
    ")"
   ]
  },
  {
   "cell_type": "code",
   "execution_count": null,
   "id": "d71f98d6-ecfc-405c-8266-b94371be1e4a",
   "metadata": {},
   "outputs": [],
   "source": [
    "c8 = ROOT.TCanvas()\n",
    "h8.Draw()\n",
    "c8.Draw()"
   ]
  },
  {
   "cell_type": "code",
   "execution_count": null,
   "id": "a4d52566-5a76-4368-8f2a-f9793e6d7dce",
   "metadata": {},
   "outputs": [],
   "source": [
    "h9 = (\n",
    "    df.Define(\"AdvTargetPointX\", \"AdvTargetPoint.fX\")\n",
    "    .Define(\"AdvTargetPointY\", \"AdvTargetPoint.fY\")\n",
    "    .Histo2D(\n",
    "        (\"points\", \"point location; x [cm]; y[cm]\", 1000, -50, 0, 1000, 10, 60),\n",
    "        \"AdvTargetPointX\",\n",
    "        \"AdvTargetPointY\",\n",
    "        \"isnotvertical\",\n",
    "    )\n",
    ")"
   ]
  },
  {
   "cell_type": "code",
   "execution_count": null,
   "id": "c18f7d7a-821c-44ea-9574-5999a062bf90",
   "metadata": {},
   "outputs": [],
   "source": [
    "c9 = ROOT.TCanvas()\n",
    "h9.Draw(\"colz\")\n",
    "c9.Draw()"
   ]
  },
  {
   "cell_type": "code",
   "execution_count": null,
   "id": "b19474bb-0562-44bf-8cea-5a21feccc8ad",
   "metadata": {},
   "outputs": [],
   "source": [
    "h10 = (\n",
    "    df.Define(\"AdvTargetPointX\", \"AdvTargetPoint.fX\")\n",
    "    .Define(\"AdvTargetPointY\", \"AdvTargetPoint.fY\")\n",
    "    .Histo2D(\n",
    "        (\"points\", \"point location; x [cm]; y[cm]\", 1000, -50, 0, 1000, 10, 60),\n",
    "        \"AdvTargetPointX\",\n",
    "        \"AdvTargetPointY\",\n",
    "        \"isvertical\",\n",
    "    )\n",
    ")"
   ]
  },
  {
   "cell_type": "code",
   "execution_count": null,
   "id": "f4bf7bbb-af2e-45a9-b5d1-3e34dd68be66",
   "metadata": {},
   "outputs": [],
   "source": [
    "c10 = ROOT.TCanvas()\n",
    "h10.Draw(\"colz\")\n",
    "c10.Draw()"
   ]
  },
  {
   "cell_type": "code",
   "execution_count": null,
   "id": "4c0f93d7-2241-4ef5-ac6c-58c1e6590dab",
   "metadata": {},
   "outputs": [],
   "source": [
    "# JIT a C++ function from Python\n",
    "ROOT.gInterpreter.Declare(\"\"\"\n",
    "bool is_fiducial_x(const std::tuple<double,double,double> &vtx) {\n",
    "    auto x = std::get<0>(vtx);\n",
    "    auto vertical = (x < -3 && x > -11) || (x < -15 && x > -23) || (x < -27 && x > -35) || (x < -39 && x > -47);\n",
    "    auto horizontal = (x < -6 && x > -14) || (x < -15 && x > -23) || (x < -27 && x > -35) || (x < -37 && x > -44);\n",
    "    return horizontal && vertical;\n",
    "}\n",
    "\"\"\")"
   ]
  },
  {
   "cell_type": "code",
   "execution_count": null,
   "id": "f8dcd5a3-490f-47cb-ba27-d9668bec2c6f",
   "metadata": {},
   "outputs": [],
   "source": [
    "ROOT.gInterpreter.Declare(\"\"\"\n",
    "bool is_fiducial_y(const std::tuple<double,double,double> &vtx) {\n",
    "    auto y = std::get<1>(vtx);\n",
    "    auto vertical = (y < 23 && y > 15) || (y < 33 && y > 25) || (y < 44 && y > 36) || (y < 53 && y > 45);\n",
    "    auto horizontal = (y < 20 && y > 12) || (y < 32 && y > 24) || (y < 44 && y > 36) || (y < 56 && y > 48);\n",
    "    return horizontal && vertical;\n",
    "}\n",
    "\"\"\")"
   ]
  },
  {
   "cell_type": "code",
   "execution_count": null,
   "id": "8b766fb3-754c-40f2-95e7-2d2a9359dcd7",
   "metadata": {},
   "outputs": [],
   "source": [
    "# JIT a C++ function from Python\n",
    "ROOT.gInterpreter.Declare(\"\"\"\n",
    "bool is_fiducial_z(const std::tuple<double,double,double> &vtx) {\n",
    "    return std::get<2>(vtx) < -90;  // cm\n",
    "}\n",
    "\"\"\")"
   ]
  },
  {
   "cell_type": "code",
   "execution_count": null,
   "id": "7f4e78ae-af70-4b43-8a07-2d85bc9939fc",
   "metadata": {},
   "outputs": [],
   "source": [
    "# JIT a C++ function from Python\n",
    "ROOT.gInterpreter.Declare(\"\"\"\n",
    "bool is_fiducial(const std::tuple<double,double,double> &vtx) {\n",
    "    return is_fiducial_x(vtx) && is_fiducial_y(vtx) && is_fiducial_z(vtx);\n",
    "}\n",
    "\"\"\")"
   ]
  },
  {
   "cell_type": "code",
   "execution_count": null,
   "id": "8e2fca41-1eee-4f8a-b551-ec0bfb207835",
   "metadata": {},
   "outputs": [],
   "source": [
    "# df_filtered = df.Filter(\"is_fiducial(Vertex)\", \"Vertex in Fiducial volume\")\n",
    "df = df.Define(\"fiducial_cut\", \"is_fiducial(Vertex)\")"
   ]
  },
  {
   "cell_type": "code",
   "execution_count": null,
   "id": "7b87f589-0502-4fe3-abd7-2efec30283c0",
   "metadata": {},
   "outputs": [],
   "source": [
    "df_filtered = df.Filter(\"std::size(SecondaryMuons) == 1\", \"Secondary muon\").Filter(\n",
    "    \"is_fiducial(Vertex)\", \"Vertex in Fiducial volume\"\n",
    ")"
   ]
  },
  {
   "cell_type": "code",
   "execution_count": null,
   "id": "67906742-2e70-4aaa-a73a-fa33d128d46a",
   "metadata": {},
   "outputs": [],
   "source": [
    "r = df_filtered.Report()"
   ]
  },
  {
   "cell_type": "code",
   "execution_count": null,
   "id": "4fd7feef-0f34-48c0-9b0b-16cee78aa628",
   "metadata": {},
   "outputs": [],
   "source": [
    "r.Print()"
   ]
  },
  {
   "cell_type": "code",
   "execution_count": null,
   "id": "cf6523bc-fdcc-4db1-a6d6-f4ba7555b710",
   "metadata": {},
   "outputs": [],
   "source": [
    "# columns = set(columns_orig)"
   ]
  },
  {
   "cell_type": "code",
   "execution_count": null,
   "id": "59836504-39ea-497c-a509-084a201da97f",
   "metadata": {},
   "outputs": [],
   "source": [
    "# for c in columns_orig:\n",
    "#    if \"Digi\" in str(c):\n",
    "#        columns.discard(c)"
   ]
  },
  {
   "cell_type": "code",
   "execution_count": null,
   "id": "66325ee1-4b55-415a-9bc3-f0cf7180a977",
   "metadata": {},
   "outputs": [],
   "source": [
    "df.Snapshot(\"cbmsim\", \"numu_golden.root\", [\"fiducial_cut\", \"CC_cut\"])"
   ]
  },
  {
   "cell_type": "code",
   "execution_count": null,
   "id": "93a38f60-315c-4566-a8a7-67b6b06c0bb4",
   "metadata": {},
   "outputs": [],
   "source": [
    "print(df.Sum(\"fiducial_cut\").GetValue())"
   ]
  },
  {
   "cell_type": "code",
   "execution_count": null,
   "id": "64a63411-9cf0-479a-9749-a1f541901911",
   "metadata": {},
   "outputs": [],
   "source": [
    "print(df.Sum(\"CC_cut\").GetValue())"
   ]
  },
  {
   "cell_type": "code",
   "execution_count": null,
   "id": "29a0fa9f-0b54-4b4b-8345-07a995d0fbd8",
   "metadata": {},
   "outputs": [],
   "source": [
    "df = df.Define(\"all_cuts\", \"fiducial_cut && CC_cut\")"
   ]
  },
  {
   "cell_type": "code",
   "execution_count": null,
   "id": "c808f56f-e431-4624-9361-636613defdfb",
   "metadata": {},
   "outputs": [],
   "source": [
    "print(df.Sum(\"all_cuts\").GetValue())"
   ]
  },
  {
   "cell_type": "code",
   "execution_count": null,
   "id": "34312d3a-b97a-49cb-b96e-64159d7da0ac",
   "metadata": {},
   "outputs": [],
   "source": []
  }
 ],
 "metadata": {
  "kernelspec": {
   "display_name": "AdvTracker",
   "language": "python",
   "name": "advtracker"
  },
  "language_info": {
   "codemirror_mode": {
    "name": "ipython",
    "version": 3
   },
   "file_extension": ".py",
   "mimetype": "text/x-python",
   "name": "python",
   "nbconvert_exporter": "python",
   "pygments_lexer": "ipython3",
   "version": "3.11.5"
  }
 },
 "nbformat": 4,
 "nbformat_minor": 5
}
